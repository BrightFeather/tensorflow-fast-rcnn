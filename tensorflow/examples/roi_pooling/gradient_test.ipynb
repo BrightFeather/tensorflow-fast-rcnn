{
 "cells": [
  {
   "cell_type": "markdown",
   "metadata": {
    "collapsed": true
   },
   "source": [
    "This file performs a test on the ROI pooling gradient operation. Specifically, given a set of inputs, it will compare the theoretical Jacobian (based on the registered gradient op) and the numerical gradient (calculated by perturbing each input and seeing the difference in the output). We perform this test on a wide range of possible inputs - GPU and CPU, different input shapes and sizes, etc - to ensure that the gradient function performs as expected."
   ]
  },
  {
   "cell_type": "code",
   "execution_count": 1,
   "metadata": {
    "collapsed": true
   },
   "outputs": [],
   "source": [
    "import numpy as np\n",
    "import PIL\n",
    "from PIL import Image\n",
    "\n",
    "import tensorflow as tf\n",
    "from tensorflow.python.framework import ops\n",
    "from tensorflow.python.ops import array_ops\n",
    "\n",
    "import time\n",
    "\n",
    "import os\n",
    "home = os.getenv(\"HOME\")"
   ]
  },
  {
   "cell_type": "code",
   "execution_count": null,
   "metadata": {
    "collapsed": true
   },
   "outputs": [],
   "source": [
    "# Since we've added custom operations, we need to import them. Tensorflow does not automatically add custom ops.\n",
    "# Adjust the paths below to your tensorflow source folder.\n",
    "\n",
    "# Import the forward op\n",
    "roi_pooling_module = tf.load_op_library(\n",
    "    home + \"/packages/tensorflow/bazel-bin/tensorflow/core/user_ops/roi_pooling_op.so\")\n",
    "roi_pooling_op = roi_pooling_module.roi_pooling\n",
    "\n",
    "# Import the gradient op\n",
    "roi_pooling_module_grad = tf.load_op_library(\n",
    "    home + \"/packages/tensorflow/bazel-bin/tensorflow/core/user_ops/roi_pooling_op_grad.so\")\n",
    "roi_pooling_op_grad = roi_pooling_module_grad.roi_pooling_grad"
   ]
  },
  {
   "cell_type": "code",
   "execution_count": 4,
   "metadata": {
    "collapsed": true
   },
   "outputs": [],
   "source": [
    "# Here we register our gradient op as the gradient function for our ROI pooling op. \n",
    "@ops.RegisterGradient(\"RoiPooling\")\n",
    "def _roi_pooling_grad(op, grad0, grad1):\n",
    "    # The input gradients are the gradients with respect to the outputs of the pooling layer\n",
    "    input_grad = grad0\n",
    "    \n",
    "    # We need the argmax data to compute the gradient connections\n",
    "    argmax = op.outputs[1]\n",
    "    \n",
    "    # Grab the shape of the inputs to the ROI pooling layer\n",
    "    input_shape = array_ops.shape(op.inputs[0])\n",
    "    \n",
    "    # Compute the gradient\n",
    "    backprop_grad = roi_pooling_op_grad(input_grad, argmax, input_shape)\n",
    "    \n",
    "    # Return the gradient for the feature map, but not for the other inputs\n",
    "    return [backprop_grad, None, None]"
   ]
  },
  {
   "cell_type": "code",
   "execution_count": 5,
   "metadata": {
    "collapsed": false
   },
   "outputs": [],
   "source": [
    "# Set up a Tensorflow session\n",
    "sess = tf.InteractiveSession()"
   ]
  },
  {
   "cell_type": "code",
   "execution_count": 6,
   "metadata": {
    "collapsed": false
   },
   "outputs": [],
   "source": [
    "def test_grad(device, batch_size, num_channels, roi_array, data_type, image_shape, result_shape):\n",
    "    \n",
    "    input_shape = (batch_size, num_channels, image_shape[0], image_shape[1])\n",
    "    roi_array = np.asarray([roi_array for i in range(batch_size)])\n",
    "    \n",
    "    # Provision for different ways of making inputs. Currently only testing random.\n",
    "    if data_type == \"linear\":\n",
    "        data_array = np.linspace(1, 0, num=reduce(mul, input_shape, 1)).reshape(input_shape).astype(np.float32)\n",
    "    else:\n",
    "        data_array = np.random.random(input_shape).astype(np.float32)\n",
    "    \n",
    "    # Choose the device for the test\n",
    "    with tf.device(\"/{}:0\".format(device)):\n",
    "        # Set up the inputs\n",
    "        data_constant = tf.constant(data_array)\n",
    "        rois_constant = tf.constant(np.asarray(roi_array).astype(np.int32))\n",
    "        output_shape_tensor_constant = tf.constant(np.asarray(result_shape).astype(np.int32))\n",
    "        input_shape_constant = array_ops.shape(data_constant)\n",
    "        \n",
    "        # Compute the ROI pooling function\n",
    "        result, argmax = roi_pooling_op(data_constant, rois_constant, output_shape_tensor_constant)\n",
    "        \n",
    "        # Compute the theoretical gradient\n",
    "        #grad_test_op, = tf.gradients(result, data_constant)\n",
    "        \n",
    "        # Compute both the theoretic and numeric Jacobians\n",
    "        theoretic, numeric = tf.test.compute_gradient(data_constant, input_shape, result, \n",
    "                                    (input_shape[0],input_shape[1],len(roi_array[0]),result_shape[0],result_shape[1]),\n",
    "                                   x_init_value=data_array, delta=.00001)\n",
    "        \n",
    "        # Check that the arrays are close (within numeric error). If not, print an error message\n",
    "        if not np.allclose(theoretic, numeric, rtol=.05):\n",
    "            print(\"Test Failed: device {}, batch size {}, {} channels, roi_array {}, \\\n",
    "                    {} data, image_shape {}, result_shape {}\" \\\n",
    "                  .format(device, batch_size, num_channels, roi_array, data_type, image_shape, result_shape))\n",
    "            "
   ]
  },
  {
   "cell_type": "code",
   "execution_count": 7,
   "metadata": {
    "collapsed": false,
    "scrolled": true
   },
   "outputs": [],
   "source": [
    "# Test a bunch of combinations of inputs. Success if no errors are printed.\n",
    "test_rois = [[0, 0, 10, 10], [2, 1, 7, 9]]\n",
    "for device in [\"cpu\", \"gpu\"]:\n",
    "    for batch_size in [1,2]:\n",
    "        for num_channels in [1,2]:\n",
    "            for num_rois in [1,2]:\n",
    "                rois = test_rois[:num_rois]\n",
    "                for image_shape in [(10, 10), (13, 17)]:\n",
    "                    for result_shape in [(2,2), (1,4)]:\n",
    "                        # Run the gradient tester on these inputs\n",
    "                        test_grad(device, batch_size, num_channels, rois, \"random\", image_shape, result_shape)"
   ]
  }
 ],
 "metadata": {
  "kernelspec": {
   "display_name": "Python 3",
   "language": "python",
   "name": "python3"
  },
  "language_info": {
   "codemirror_mode": {
    "name": "ipython",
    "version": 3
   },
   "file_extension": ".py",
   "mimetype": "text/x-python",
   "name": "python",
   "nbconvert_exporter": "python",
   "pygments_lexer": "ipython3",
   "version": "3.5.1+"
  },
  "widgets": {
   "state": {},
   "version": "1.1.1"
  }
 },
 "nbformat": 4,
 "nbformat_minor": 0
}
